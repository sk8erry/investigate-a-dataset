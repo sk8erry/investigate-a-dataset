{
 "cells": [
  {
   "cell_type": "code",
   "execution_count": 15,
   "metadata": {
    "collapsed": true
   },
   "outputs": [],
   "source": [
    "###DAND Project 2: Investigate a Dataset"
   ]
  },
  {
   "cell_type": "code",
   "execution_count": 2,
   "metadata": {
    "collapsed": true
   },
   "outputs": [],
   "source": [
    "import matplotlib.pyplot as plt\n",
    "import numpy as np\n",
    "import pandas as pd\n",
    "import seaborn as sns\n",
    "\n",
    "filename = 'titanic-data.csv'\n",
    "titanic_df = pd.read_csv(filename)"
   ]
  },
  {
   "cell_type": "code",
   "execution_count": 3,
   "metadata": {
    "collapsed": true
   },
   "outputs": [],
   "source": [
    "###Group passengers by survivorship and gender for furthur analysis\n",
    "\n",
    "survived = titanic_df.loc[titanic_df['Survived'] == 1]\n",
    "survived_count = len(survived['Name'])\n",
    "\n",
    "survived_male = survived.loc[survived['Sex'] == 'male']\n",
    "survived_male_count = len(survived_male['Name'])\n",
    "\n",
    "survived_female = survived.loc[survived['Sex'] == 'female']\n",
    "survived_female_count = len(survived_female['Name'])\n",
    "\n",
    "perished = titanic_df.loc[titanic_df['Survived'] == 0]\n",
    "perished_count = len(perished['Name'])\n",
    "\n",
    "perished_male = perished.loc[perished['Sex'] == 'male']\n",
    "perished_male_count = len(perished_male['Name'])\n",
    "\n",
    "perished_female = perished.loc[perished['Sex'] == 'female']\n",
    "perished_female_count = len(perished_female['Name'])\n"
   ]
  },
  {
   "cell_type": "code",
   "execution_count": 35,
   "metadata": {},
   "outputs": [
    {
     "data": {
      "image/png": "[encoded data removed]",
      "text/plain": [
       "<matplotlib.figure.Figure at 0x18578bfa898>"
      ]
     },
     "metadata": {},
     "output_type": "display_data"
    }
   ],
   "source": [
    "ind = np.arange(2)\n",
    "width = 0.7\n",
    "\n",
    "p1 = plt.bar(ind, (survived_male_count, survived_female_count), width, color='g')\n",
    "p2 = plt.bar(ind, (perished_male_count, perished_female_count), \n",
    "             width, bottom=(survived_male_count, survived_female_count), color='r')\n",
    "\n",
    "plt.ylabel('Count')\n",
    "plt.title('Survivorship by Gender')\n",
    "plt.xticks(ind, ('Male', 'Female'))\n",
    "plt.yticks(np.arange(0, 600, 100))\n",
    "plt.legend((p1[0], p2[0]), ('Survived', 'Perished'))\n",
    "\n",
    "plt.show()"
   ]
  },
  {
   "cell_type": "code",
   "execution_count": 23,
   "metadata": {},
   "outputs": [
    {
     "name": "stdout",
     "output_type": "stream",
     "text": [
      "109 468\n",
      "233 81\n"
     ]
    }
   ],
   "source": [
    "print (survived_male_count, perished_male_count)\n",
    "print (survived_female_count, perished_female_count)\n"
   ]
  },
  {
   "cell_type": "code",
   "execution_count": 26,
   "metadata": {},
   "outputs": [
    {
     "data": {
      "image/png": "[encoded data removed]",
      "text/plain": [
       "<matplotlib.figure.Figure at 0x18579e2ac50>"
      ]
     },
     "metadata": {},
     "output_type": "display_data"
    }
   ],
   "source": [
    "p1 = plt.bar(ind, (survived_male_count, survived_female_count), width, color='#d62728')\n",
    "plt.show()"
   ]
  },
  {
   "cell_type": "code",
   "execution_count": null,
   "metadata": {
    "collapsed": true
   },
   "outputs": [],
   "source": []
  }
 ],
 "metadata": {
  "kernelspec": {
   "display_name": "Python [conda env:virtualenv0]",
   "language": "python",
   "name": "conda-env-virtualenv0-py"
  },
  "language_info": {
   "codemirror_mode": {
    "name": "ipython",
    "version": 3
   },
   "file_extension": ".py",
   "mimetype": "text/x-python",
   "name": "python",
   "nbconvert_exporter": "python",
   "pygments_lexer": "ipython3",
   "version": "3.6.2"
  }
 },
 "nbformat": 4,
 "nbformat_minor": 2
}
